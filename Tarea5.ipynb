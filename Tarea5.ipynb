{
  "nbformat": 4,
  "nbformat_minor": 0,
  "metadata": {
    "colab": {
      "provenance": [],
      "gpuType": "T4"
    },
    "kernelspec": {
      "name": "python3",
      "display_name": "Python 3"
    },
    "language_info": {
      "name": "python"
    },
    "accelerator": "GPU"
  },
  "cells": [
    {
      "cell_type": "markdown",
      "source": [
        "##1: Análisis de Sentimiento con FinBERT"
      ],
      "metadata": {
        "id": "0O-_h6J7GgZW"
      }
    },
    {
      "cell_type": "code",
      "execution_count": 3,
      "metadata": {
        "colab": {
          "base_uri": "https://localhost:8080/"
        },
        "id": "-kHVKo8iFrjF",
        "outputId": "425eaefe-5686-4297-db07-f164d114ba43"
      },
      "outputs": [
        {
          "output_type": "stream",
          "name": "stdout",
          "text": [
            "\u001b[2K   \u001b[90m━━━━━━━━━━━━━━━━━━━━━━━━━━━━━━━━━━━━━━━━\u001b[0m \u001b[32m363.4/363.4 MB\u001b[0m \u001b[31m4.5 MB/s\u001b[0m eta \u001b[36m0:00:00\u001b[0m\n",
            "\u001b[2K   \u001b[90m━━━━━━━━━━━━━━━━━━━━━━━━━━━━━━━━━━━━━━━━\u001b[0m \u001b[32m13.8/13.8 MB\u001b[0m \u001b[31m117.7 MB/s\u001b[0m eta \u001b[36m0:00:00\u001b[0m\n",
            "\u001b[2K   \u001b[90m━━━━━━━━━━━━━━━━━━━━━━━━━━━━━━━━━━━━━━━━\u001b[0m \u001b[32m24.6/24.6 MB\u001b[0m \u001b[31m26.1 MB/s\u001b[0m eta \u001b[36m0:00:00\u001b[0m\n",
            "\u001b[2K   \u001b[90m━━━━━━━━━━━━━━━━━━━━━━━━━━━━━━━━━━━━━━━━\u001b[0m \u001b[32m883.7/883.7 kB\u001b[0m \u001b[31m42.4 MB/s\u001b[0m eta \u001b[36m0:00:00\u001b[0m\n",
            "\u001b[2K   \u001b[90m━━━━━━━━━━━━━━━━━━━━━━━━━━━━━━━━━━━━━━━━\u001b[0m \u001b[32m664.8/664.8 MB\u001b[0m \u001b[31m1.5 MB/s\u001b[0m eta \u001b[36m0:00:00\u001b[0m\n",
            "\u001b[2K   \u001b[90m━━━━━━━━━━━━━━━━━━━━━━━━━━━━━━━━━━━━━━━━\u001b[0m \u001b[32m211.5/211.5 MB\u001b[0m \u001b[31m6.5 MB/s\u001b[0m eta \u001b[36m0:00:00\u001b[0m\n",
            "\u001b[2K   \u001b[90m━━━━━━━━━━━━━━━━━━━━━━━━━━━━━━━━━━━━━━━━\u001b[0m \u001b[32m56.3/56.3 MB\u001b[0m \u001b[31m14.3 MB/s\u001b[0m eta \u001b[36m0:00:00\u001b[0m\n",
            "\u001b[2K   \u001b[90m━━━━━━━━━━━━━━━━━━━━━━━━━━━━━━━━━━━━━━━━\u001b[0m \u001b[32m127.9/127.9 MB\u001b[0m \u001b[31m9.7 MB/s\u001b[0m eta \u001b[36m0:00:00\u001b[0m\n",
            "\u001b[2K   \u001b[90m━━━━━━━━━━━━━━━━━━━━━━━━━━━━━━━━━━━━━━━━\u001b[0m \u001b[32m207.5/207.5 MB\u001b[0m \u001b[31m7.1 MB/s\u001b[0m eta \u001b[36m0:00:00\u001b[0m\n",
            "\u001b[2K   \u001b[90m━━━━━━━━━━━━━━━━━━━━━━━━━━━━━━━━━━━━━━━━\u001b[0m \u001b[32m21.1/21.1 MB\u001b[0m \u001b[31m33.0 MB/s\u001b[0m eta \u001b[36m0:00:00\u001b[0m\n",
            "\u001b[?25h"
          ]
        }
      ],
      "source": [
        "!pip install transformers datasets torch --quiet"
      ]
    },
    {
      "cell_type": "code",
      "source": [
        "!pip install pymupdf --quiet"
      ],
      "metadata": {
        "colab": {
          "base_uri": "https://localhost:8080/"
        },
        "id": "aJeVKaLFHyBB",
        "outputId": "01324c5b-5bcb-4429-861b-de6894b7cfd0"
      },
      "execution_count": 4,
      "outputs": [
        {
          "output_type": "stream",
          "name": "stdout",
          "text": [
            "\u001b[2K   \u001b[90m━━━━━━━━━━━━━━━━━━━━━━━━━━━━━━━━━━━━━━━━\u001b[0m \u001b[32m24.1/24.1 MB\u001b[0m \u001b[31m12.5 MB/s\u001b[0m eta \u001b[36m0:00:00\u001b[0m\n",
            "\u001b[?25h"
          ]
        }
      ]
    },
    {
      "cell_type": "code",
      "source": [
        "import pandas as pd\n",
        "from datasets import load_dataset\n",
        "from transformers import AutoTokenizer, AutoModelForSequenceClassification, pipeline\n",
        "import fitz  # PyMuPDF\n",
        "from transformers import pipeline as hf_pipeline\n",
        "from google.colab import files"
      ],
      "metadata": {
        "id": "SrJIlfrrHFiE"
      },
      "execution_count": 5,
      "outputs": []
    },
    {
      "cell_type": "code",
      "source": [
        "print(\"Tarea 1: Subir 4 archivos txt del Financial Phrasebank\")\n",
        "\n",
        "from google.colab import files\n",
        "import pandas as pd\n",
        "\n",
        "uploaded = files.upload()"
      ],
      "metadata": {
        "colab": {
          "base_uri": "https://localhost:8080/",
          "height": 198
        },
        "id": "x3picvgjIbpI",
        "outputId": "052f0dcf-2911-461c-b1f7-d6bbeb0ba6a5"
      },
      "execution_count": 13,
      "outputs": [
        {
          "output_type": "stream",
          "name": "stdout",
          "text": [
            "Tarea 1: Subir 4 archivos txt del Financial Phrasebank\n"
          ]
        },
        {
          "output_type": "display_data",
          "data": {
            "text/plain": [
              "<IPython.core.display.HTML object>"
            ],
            "text/html": [
              "\n",
              "     <input type=\"file\" id=\"files-3e7143da-8d41-4cd8-af51-8d0166ab5c7f\" name=\"files[]\" multiple disabled\n",
              "        style=\"border:none\" />\n",
              "     <output id=\"result-3e7143da-8d41-4cd8-af51-8d0166ab5c7f\">\n",
              "      Upload widget is only available when the cell has been executed in the\n",
              "      current browser session. Please rerun this cell to enable.\n",
              "      </output>\n",
              "      <script>// Copyright 2017 Google LLC\n",
              "//\n",
              "// Licensed under the Apache License, Version 2.0 (the \"License\");\n",
              "// you may not use this file except in compliance with the License.\n",
              "// You may obtain a copy of the License at\n",
              "//\n",
              "//      http://www.apache.org/licenses/LICENSE-2.0\n",
              "//\n",
              "// Unless required by applicable law or agreed to in writing, software\n",
              "// distributed under the License is distributed on an \"AS IS\" BASIS,\n",
              "// WITHOUT WARRANTIES OR CONDITIONS OF ANY KIND, either express or implied.\n",
              "// See the License for the specific language governing permissions and\n",
              "// limitations under the License.\n",
              "\n",
              "/**\n",
              " * @fileoverview Helpers for google.colab Python module.\n",
              " */\n",
              "(function(scope) {\n",
              "function span(text, styleAttributes = {}) {\n",
              "  const element = document.createElement('span');\n",
              "  element.textContent = text;\n",
              "  for (const key of Object.keys(styleAttributes)) {\n",
              "    element.style[key] = styleAttributes[key];\n",
              "  }\n",
              "  return element;\n",
              "}\n",
              "\n",
              "// Max number of bytes which will be uploaded at a time.\n",
              "const MAX_PAYLOAD_SIZE = 100 * 1024;\n",
              "\n",
              "function _uploadFiles(inputId, outputId) {\n",
              "  const steps = uploadFilesStep(inputId, outputId);\n",
              "  const outputElement = document.getElementById(outputId);\n",
              "  // Cache steps on the outputElement to make it available for the next call\n",
              "  // to uploadFilesContinue from Python.\n",
              "  outputElement.steps = steps;\n",
              "\n",
              "  return _uploadFilesContinue(outputId);\n",
              "}\n",
              "\n",
              "// This is roughly an async generator (not supported in the browser yet),\n",
              "// where there are multiple asynchronous steps and the Python side is going\n",
              "// to poll for completion of each step.\n",
              "// This uses a Promise to block the python side on completion of each step,\n",
              "// then passes the result of the previous step as the input to the next step.\n",
              "function _uploadFilesContinue(outputId) {\n",
              "  const outputElement = document.getElementById(outputId);\n",
              "  const steps = outputElement.steps;\n",
              "\n",
              "  const next = steps.next(outputElement.lastPromiseValue);\n",
              "  return Promise.resolve(next.value.promise).then((value) => {\n",
              "    // Cache the last promise value to make it available to the next\n",
              "    // step of the generator.\n",
              "    outputElement.lastPromiseValue = value;\n",
              "    return next.value.response;\n",
              "  });\n",
              "}\n",
              "\n",
              "/**\n",
              " * Generator function which is called between each async step of the upload\n",
              " * process.\n",
              " * @param {string} inputId Element ID of the input file picker element.\n",
              " * @param {string} outputId Element ID of the output display.\n",
              " * @return {!Iterable<!Object>} Iterable of next steps.\n",
              " */\n",
              "function* uploadFilesStep(inputId, outputId) {\n",
              "  const inputElement = document.getElementById(inputId);\n",
              "  inputElement.disabled = false;\n",
              "\n",
              "  const outputElement = document.getElementById(outputId);\n",
              "  outputElement.innerHTML = '';\n",
              "\n",
              "  const pickedPromise = new Promise((resolve) => {\n",
              "    inputElement.addEventListener('change', (e) => {\n",
              "      resolve(e.target.files);\n",
              "    });\n",
              "  });\n",
              "\n",
              "  const cancel = document.createElement('button');\n",
              "  inputElement.parentElement.appendChild(cancel);\n",
              "  cancel.textContent = 'Cancel upload';\n",
              "  const cancelPromise = new Promise((resolve) => {\n",
              "    cancel.onclick = () => {\n",
              "      resolve(null);\n",
              "    };\n",
              "  });\n",
              "\n",
              "  // Wait for the user to pick the files.\n",
              "  const files = yield {\n",
              "    promise: Promise.race([pickedPromise, cancelPromise]),\n",
              "    response: {\n",
              "      action: 'starting',\n",
              "    }\n",
              "  };\n",
              "\n",
              "  cancel.remove();\n",
              "\n",
              "  // Disable the input element since further picks are not allowed.\n",
              "  inputElement.disabled = true;\n",
              "\n",
              "  if (!files) {\n",
              "    return {\n",
              "      response: {\n",
              "        action: 'complete',\n",
              "      }\n",
              "    };\n",
              "  }\n",
              "\n",
              "  for (const file of files) {\n",
              "    const li = document.createElement('li');\n",
              "    li.append(span(file.name, {fontWeight: 'bold'}));\n",
              "    li.append(span(\n",
              "        `(${file.type || 'n/a'}) - ${file.size} bytes, ` +\n",
              "        `last modified: ${\n",
              "            file.lastModifiedDate ? file.lastModifiedDate.toLocaleDateString() :\n",
              "                                    'n/a'} - `));\n",
              "    const percent = span('0% done');\n",
              "    li.appendChild(percent);\n",
              "\n",
              "    outputElement.appendChild(li);\n",
              "\n",
              "    const fileDataPromise = new Promise((resolve) => {\n",
              "      const reader = new FileReader();\n",
              "      reader.onload = (e) => {\n",
              "        resolve(e.target.result);\n",
              "      };\n",
              "      reader.readAsArrayBuffer(file);\n",
              "    });\n",
              "    // Wait for the data to be ready.\n",
              "    let fileData = yield {\n",
              "      promise: fileDataPromise,\n",
              "      response: {\n",
              "        action: 'continue',\n",
              "      }\n",
              "    };\n",
              "\n",
              "    // Use a chunked sending to avoid message size limits. See b/62115660.\n",
              "    let position = 0;\n",
              "    do {\n",
              "      const length = Math.min(fileData.byteLength - position, MAX_PAYLOAD_SIZE);\n",
              "      const chunk = new Uint8Array(fileData, position, length);\n",
              "      position += length;\n",
              "\n",
              "      const base64 = btoa(String.fromCharCode.apply(null, chunk));\n",
              "      yield {\n",
              "        response: {\n",
              "          action: 'append',\n",
              "          file: file.name,\n",
              "          data: base64,\n",
              "        },\n",
              "      };\n",
              "\n",
              "      let percentDone = fileData.byteLength === 0 ?\n",
              "          100 :\n",
              "          Math.round((position / fileData.byteLength) * 100);\n",
              "      percent.textContent = `${percentDone}% done`;\n",
              "\n",
              "    } while (position < fileData.byteLength);\n",
              "  }\n",
              "\n",
              "  // All done.\n",
              "  yield {\n",
              "    response: {\n",
              "      action: 'complete',\n",
              "    }\n",
              "  };\n",
              "}\n",
              "\n",
              "scope.google = scope.google || {};\n",
              "scope.google.colab = scope.google.colab || {};\n",
              "scope.google.colab._files = {\n",
              "  _uploadFiles,\n",
              "  _uploadFilesContinue,\n",
              "};\n",
              "})(self);\n",
              "</script> "
            ]
          },
          "metadata": {}
        },
        {
          "output_type": "stream",
          "name": "stdout",
          "text": [
            "Saving Sentences_50Agree.txt to Sentences_50Agree (1).txt\n",
            "Saving Sentences_66Agree.txt to Sentences_66Agree (1).txt\n",
            "Saving Sentences_75Agree.txt to Sentences_75Agree (1).txt\n",
            "Saving Sentences_AllAgree.txt to Sentences_AllAgree (1).txt\n"
          ]
        }
      ]
    },
    {
      "cell_type": "code",
      "source": [
        "dfs = []\n",
        "\n",
        "for filename in uploaded.keys():\n",
        "    print(f\"Leyendo archivo: {filename}\")\n",
        "    with open(filename, \"r\", encoding=\"latin1\") as f:\n",
        "        lines = f.readlines()\n",
        "\n",
        "    data = []\n",
        "    for line in lines:\n",
        "        line = line.strip()\n",
        "        if \"@positive\" in line:\n",
        "            sentence, sentiment = line.rsplit(\"@positive\", 1)\n",
        "            data.append([sentence.strip(), \"positive\"])\n",
        "        elif \"@negative\" in line:\n",
        "            sentence, sentiment = line.rsplit(\"@negative\", 1)\n",
        "            data.append([sentence.strip(), \"negative\"])\n",
        "        elif \"@neutral\" in line:\n",
        "            sentence, sentiment = line.rsplit(\"@neutral\", 1)\n",
        "            data.append([sentence.strip(), \"neutral\"])\n",
        "\n",
        "    df = pd.DataFrame(data, columns=[\"sentence\", \"sentiment\"])\n",
        "    dfs.append(df)\n",
        "\n",
        "# Unimos todos los DataFrames\n",
        "full_df = pd.concat(dfs, ignore_index=True)\n",
        "\n",
        "print(\"\\n✅ Ejemplo de frases y etiquetas:\")\n",
        "print(full_df.head())\n",
        "\n",
        "print(\"\\n📊 Distribución de etiquetas:\")\n",
        "print(full_df[\"sentiment\"].value_counts())"
      ],
      "metadata": {
        "colab": {
          "base_uri": "https://localhost:8080/"
        },
        "id": "NGGffIj7KSMx",
        "outputId": "5d21143f-bd50-4ca9-f3f7-a69b5c635241"
      },
      "execution_count": 17,
      "outputs": [
        {
          "output_type": "stream",
          "name": "stdout",
          "text": [
            "Leyendo archivo: Sentences_50Agree (1).txt\n",
            "Leyendo archivo: Sentences_66Agree (1).txt\n",
            "Leyendo archivo: Sentences_75Agree (1).txt\n",
            "Leyendo archivo: Sentences_AllAgree (1).txt\n",
            "\n",
            "✅ Ejemplo de frases y etiquetas:\n",
            "                                            sentence sentiment\n",
            "0  According to Gran , the company has no plans t...   neutral\n",
            "1  Technopolis plans to develop in stages an area...   neutral\n",
            "2  The international electronic industry company ...  negative\n",
            "3  With the new production plant the company woul...  positive\n",
            "4  According to the company 's updated strategy f...  positive\n",
            "\n",
            "📊 Distribución de etiquetas:\n",
            "sentiment\n",
            "neutral     8951\n",
            "positive    3988\n",
            "negative    1841\n",
            "Name: count, dtype: int64\n"
          ]
        }
      ]
    },
    {
      "cell_type": "code",
      "source": [
        "#Cargar el modelo FinBERT\n",
        "from transformers import pipeline\n",
        "import torch\n",
        "\n",
        "device = \"cuda\" if torch.cuda.is_available() else \"cpu\"\n",
        "print(f\"⚙️ Dispositivo utilizado: {device}\")\n",
        "\n",
        "print(\"⏳ Cargando modelo FinBERT...\")\n",
        "finbert = pipeline(\"sentiment-analysis\", model=\"ProsusAI/finbert\", device=0 if device == \"cuda\" else -1)"
      ],
      "metadata": {
        "colab": {
          "base_uri": "https://localhost:8080/"
        },
        "id": "J0U0dMSJKTmB",
        "outputId": "36abce99-2173-4673-c6cd-86645472aee6"
      },
      "execution_count": 18,
      "outputs": [
        {
          "output_type": "stream",
          "name": "stdout",
          "text": [
            "⚙️ Dispositivo utilizado: cpu\n",
            "⏳ Cargando modelo FinBERT...\n"
          ]
        },
        {
          "output_type": "stream",
          "name": "stderr",
          "text": [
            "Device set to use cpu\n"
          ]
        }
      ]
    },
    {
      "cell_type": "code",
      "source": [
        "#Aplicar FinBERT a una muestra de frases\n",
        "if full_df.empty:\n",
        "    print(\"⚠️ El DataFrame está vacío. Revisa si los archivos tienen frases.\")\n",
        "else:\n",
        "    sample_texts = full_df[\"sentence\"].sample(10, random_state=1).tolist()\n",
        "\n",
        "    print(\"\\n🔍 Predicciones del modelo FinBERT:\")\n",
        "    results = finbert(sample_texts)\n",
        "\n",
        "    for i, res in enumerate(results):\n",
        "        print(f\"\\n📌 Frase: {sample_texts[i]}\")\n",
        "        print(f\"🔎 Predicción: {res['label']} (Confianza: {res['score']:.2f})\")"
      ],
      "metadata": {
        "colab": {
          "base_uri": "https://localhost:8080/"
        },
        "id": "DODb_5VmNhjg",
        "outputId": "cc5165fa-5572-4e7a-c797-a945b36f1450"
      },
      "execution_count": 19,
      "outputs": [
        {
          "output_type": "stream",
          "name": "stdout",
          "text": [
            "\n",
            "🔍 Predicciones del modelo FinBERT:\n",
            "\n",
            "📌 Frase: According to Viking Line 's Managing Director , Nils-Erik Eklund , the company 's Board of Directors is very satisfied with Viking Line 's performance .\n",
            "🔎 Predicción: positive (Confianza: 0.95)\n",
            "\n",
            "📌 Frase: Finnish steel maker Rautaruukki Oyj ( HEL : RTRKS ) , or Ruukki , said today its net loss contracted to EUR 49 million ( USD 68.2 m ) for the first nine months of 2010 from EUR 229 million for the same period a year ago .\n",
            "🔎 Predicción: positive (Confianza: 0.90)\n",
            "\n",
            "📌 Frase: There have not been previous share subscriptions with 2004 stock options .\n",
            "🔎 Predicción: neutral (Confianza: 0.95)\n",
            "\n",
            "📌 Frase: hu will offer a further discount of between 25 % and 50 % on selected books .\n",
            "🔎 Predicción: neutral (Confianza: 0.89)\n",
            "\n",
            "📌 Frase: A total of 15,000 new Citycon shares with a nominal value of EUR 1.35 per share were subscribed between 17 and 23 March 2006 exercising the A-B-C options based on the company 's stock option plan 1999 .\n",
            "🔎 Predicción: neutral (Confianza: 0.94)\n",
            "\n",
            "📌 Frase: `` Of course , we are in talks with all those coming up with new projects that involve material handling , '' Konecranes President and CEO Pekka Lundmark said , when asked whether it was talking to Reliance Industries for supplying equipment to its upcoming refinery in Jamnagar .\n",
            "🔎 Predicción: positive (Confianza: 0.65)\n",
            "\n",
            "📌 Frase: Elcoteq expects its net sales for the last quarter of 2010 to be on the level of the third quarter .\n",
            "🔎 Predicción: positive (Confianza: 0.77)\n",
            "\n",
            "📌 Frase: HELSINKI AFX - Outokumpu said its technology unit has won a 28 mln eur contract from Bosnia-Herzegovina 's Aluminij dd Mostar to upgrade an anode plant .\n",
            "🔎 Predicción: positive (Confianza: 0.95)\n",
            "\n",
            "📌 Frase: Oriola-KD is a spin-off of Finnish pharmaceutical group Orion Oyj 's wholesale division .\n",
            "🔎 Predicción: neutral (Confianza: 0.94)\n",
            "\n",
            "📌 Frase: After 1 April 2007 Cencorp will not have any own employees in the territory .\n",
            "🔎 Predicción: neutral (Confianza: 0.94)\n"
          ]
        }
      ]
    },
    {
      "cell_type": "markdown",
      "source": [
        "##2: Resumen automático de un contrato en PDF"
      ],
      "metadata": {
        "id": "yOd0Ca2CNu--"
      }
    },
    {
      "cell_type": "code",
      "source": [
        "print(\"📂 Sube el contrato en formato PDF\")\n",
        "\n",
        "uploaded_pdf = files.upload()"
      ],
      "metadata": {
        "colab": {
          "base_uri": "https://localhost:8080/",
          "height": 92
        },
        "id": "vPJ_kr3ZNxi-",
        "outputId": "a7e95e55-9b0f-41e9-cf53-9d089ac51c53"
      },
      "execution_count": 6,
      "outputs": [
        {
          "output_type": "stream",
          "name": "stdout",
          "text": [
            "📂 Sube el contrato en formato PDF\n"
          ]
        },
        {
          "output_type": "display_data",
          "data": {
            "text/plain": [
              "<IPython.core.display.HTML object>"
            ],
            "text/html": [
              "\n",
              "     <input type=\"file\" id=\"files-58f27bfb-71db-4259-bd8f-ea62d37c3799\" name=\"files[]\" multiple disabled\n",
              "        style=\"border:none\" />\n",
              "     <output id=\"result-58f27bfb-71db-4259-bd8f-ea62d37c3799\">\n",
              "      Upload widget is only available when the cell has been executed in the\n",
              "      current browser session. Please rerun this cell to enable.\n",
              "      </output>\n",
              "      <script>// Copyright 2017 Google LLC\n",
              "//\n",
              "// Licensed under the Apache License, Version 2.0 (the \"License\");\n",
              "// you may not use this file except in compliance with the License.\n",
              "// You may obtain a copy of the License at\n",
              "//\n",
              "//      http://www.apache.org/licenses/LICENSE-2.0\n",
              "//\n",
              "// Unless required by applicable law or agreed to in writing, software\n",
              "// distributed under the License is distributed on an \"AS IS\" BASIS,\n",
              "// WITHOUT WARRANTIES OR CONDITIONS OF ANY KIND, either express or implied.\n",
              "// See the License for the specific language governing permissions and\n",
              "// limitations under the License.\n",
              "\n",
              "/**\n",
              " * @fileoverview Helpers for google.colab Python module.\n",
              " */\n",
              "(function(scope) {\n",
              "function span(text, styleAttributes = {}) {\n",
              "  const element = document.createElement('span');\n",
              "  element.textContent = text;\n",
              "  for (const key of Object.keys(styleAttributes)) {\n",
              "    element.style[key] = styleAttributes[key];\n",
              "  }\n",
              "  return element;\n",
              "}\n",
              "\n",
              "// Max number of bytes which will be uploaded at a time.\n",
              "const MAX_PAYLOAD_SIZE = 100 * 1024;\n",
              "\n",
              "function _uploadFiles(inputId, outputId) {\n",
              "  const steps = uploadFilesStep(inputId, outputId);\n",
              "  const outputElement = document.getElementById(outputId);\n",
              "  // Cache steps on the outputElement to make it available for the next call\n",
              "  // to uploadFilesContinue from Python.\n",
              "  outputElement.steps = steps;\n",
              "\n",
              "  return _uploadFilesContinue(outputId);\n",
              "}\n",
              "\n",
              "// This is roughly an async generator (not supported in the browser yet),\n",
              "// where there are multiple asynchronous steps and the Python side is going\n",
              "// to poll for completion of each step.\n",
              "// This uses a Promise to block the python side on completion of each step,\n",
              "// then passes the result of the previous step as the input to the next step.\n",
              "function _uploadFilesContinue(outputId) {\n",
              "  const outputElement = document.getElementById(outputId);\n",
              "  const steps = outputElement.steps;\n",
              "\n",
              "  const next = steps.next(outputElement.lastPromiseValue);\n",
              "  return Promise.resolve(next.value.promise).then((value) => {\n",
              "    // Cache the last promise value to make it available to the next\n",
              "    // step of the generator.\n",
              "    outputElement.lastPromiseValue = value;\n",
              "    return next.value.response;\n",
              "  });\n",
              "}\n",
              "\n",
              "/**\n",
              " * Generator function which is called between each async step of the upload\n",
              " * process.\n",
              " * @param {string} inputId Element ID of the input file picker element.\n",
              " * @param {string} outputId Element ID of the output display.\n",
              " * @return {!Iterable<!Object>} Iterable of next steps.\n",
              " */\n",
              "function* uploadFilesStep(inputId, outputId) {\n",
              "  const inputElement = document.getElementById(inputId);\n",
              "  inputElement.disabled = false;\n",
              "\n",
              "  const outputElement = document.getElementById(outputId);\n",
              "  outputElement.innerHTML = '';\n",
              "\n",
              "  const pickedPromise = new Promise((resolve) => {\n",
              "    inputElement.addEventListener('change', (e) => {\n",
              "      resolve(e.target.files);\n",
              "    });\n",
              "  });\n",
              "\n",
              "  const cancel = document.createElement('button');\n",
              "  inputElement.parentElement.appendChild(cancel);\n",
              "  cancel.textContent = 'Cancel upload';\n",
              "  const cancelPromise = new Promise((resolve) => {\n",
              "    cancel.onclick = () => {\n",
              "      resolve(null);\n",
              "    };\n",
              "  });\n",
              "\n",
              "  // Wait for the user to pick the files.\n",
              "  const files = yield {\n",
              "    promise: Promise.race([pickedPromise, cancelPromise]),\n",
              "    response: {\n",
              "      action: 'starting',\n",
              "    }\n",
              "  };\n",
              "\n",
              "  cancel.remove();\n",
              "\n",
              "  // Disable the input element since further picks are not allowed.\n",
              "  inputElement.disabled = true;\n",
              "\n",
              "  if (!files) {\n",
              "    return {\n",
              "      response: {\n",
              "        action: 'complete',\n",
              "      }\n",
              "    };\n",
              "  }\n",
              "\n",
              "  for (const file of files) {\n",
              "    const li = document.createElement('li');\n",
              "    li.append(span(file.name, {fontWeight: 'bold'}));\n",
              "    li.append(span(\n",
              "        `(${file.type || 'n/a'}) - ${file.size} bytes, ` +\n",
              "        `last modified: ${\n",
              "            file.lastModifiedDate ? file.lastModifiedDate.toLocaleDateString() :\n",
              "                                    'n/a'} - `));\n",
              "    const percent = span('0% done');\n",
              "    li.appendChild(percent);\n",
              "\n",
              "    outputElement.appendChild(li);\n",
              "\n",
              "    const fileDataPromise = new Promise((resolve) => {\n",
              "      const reader = new FileReader();\n",
              "      reader.onload = (e) => {\n",
              "        resolve(e.target.result);\n",
              "      };\n",
              "      reader.readAsArrayBuffer(file);\n",
              "    });\n",
              "    // Wait for the data to be ready.\n",
              "    let fileData = yield {\n",
              "      promise: fileDataPromise,\n",
              "      response: {\n",
              "        action: 'continue',\n",
              "      }\n",
              "    };\n",
              "\n",
              "    // Use a chunked sending to avoid message size limits. See b/62115660.\n",
              "    let position = 0;\n",
              "    do {\n",
              "      const length = Math.min(fileData.byteLength - position, MAX_PAYLOAD_SIZE);\n",
              "      const chunk = new Uint8Array(fileData, position, length);\n",
              "      position += length;\n",
              "\n",
              "      const base64 = btoa(String.fromCharCode.apply(null, chunk));\n",
              "      yield {\n",
              "        response: {\n",
              "          action: 'append',\n",
              "          file: file.name,\n",
              "          data: base64,\n",
              "        },\n",
              "      };\n",
              "\n",
              "      let percentDone = fileData.byteLength === 0 ?\n",
              "          100 :\n",
              "          Math.round((position / fileData.byteLength) * 100);\n",
              "      percent.textContent = `${percentDone}% done`;\n",
              "\n",
              "    } while (position < fileData.byteLength);\n",
              "  }\n",
              "\n",
              "  // All done.\n",
              "  yield {\n",
              "    response: {\n",
              "      action: 'complete',\n",
              "    }\n",
              "  };\n",
              "}\n",
              "\n",
              "scope.google = scope.google || {};\n",
              "scope.google.colab = scope.google.colab || {};\n",
              "scope.google.colab._files = {\n",
              "  _uploadFiles,\n",
              "  _uploadFilesContinue,\n",
              "};\n",
              "})(self);\n",
              "</script> "
            ]
          },
          "metadata": {}
        },
        {
          "output_type": "stream",
          "name": "stdout",
          "text": [
            "Saving Contrato_ejercicio.pdf to Contrato_ejercicio.pdf\n"
          ]
        }
      ]
    },
    {
      "cell_type": "code",
      "source": [
        "import fitz  # PyMuPDF\n",
        "\n",
        "# Obtener nombre del archivo PDF\n",
        "pdf_filename = list(uploaded_pdf.keys())[0]\n",
        "\n",
        "# Leer contenido del PDF\n",
        "with fitz.open(pdf_filename) as doc:\n",
        "    text = \"\"\n",
        "    for page in doc:\n",
        "        text += page.get_text()\n",
        "\n",
        "print(\"\\n📄 Texto extraído del contrato:\")\n",
        "print(text[:1000])  # mostrar los primeros 1000 caracteres"
      ],
      "metadata": {
        "colab": {
          "base_uri": "https://localhost:8080/"
        },
        "id": "IhBplVmjN3qG",
        "outputId": "070d447b-0faa-4486-dc10-b96f654ebc64"
      },
      "execution_count": 7,
      "outputs": [
        {
          "output_type": "stream",
          "name": "stdout",
          "text": [
            "\n",
            "📄 Texto extraído del contrato:\n",
            "ARRENDAMIENTO DE LOCAL COMERCIAL \n",
            " \n",
            " \n",
            "Conste por la suscripción del presente contrato de Arrendamiento o Alquiler del Local \n",
            "Comercial que celebran, de una parte ZAMORA QUISPE, MARÍA ELENA, \n",
            "identificada con DNI N.º 00000001, con domicilio real en Calle Los Cipreses N.º 123, \n",
            "Urb. Jardines del Sol, Distrito de San Martín de Porres, a quien en adelante se le \n",
            "denominará LA DUEÑA o ARRENDADORA; y de la otra parte, el señor \n",
            "VELÁSQUEZ MENDOZA, JULIO, identificado con DNI N.º 00000002, con domicilio \n",
            "en Mz. A Lt. 15, Conjunto Residencial Santa Clara, Distrito de Los Olivos, a quien \n",
            "en adelante se le denominará EL ARRENDATARIO o INQUILINO, bajo los \n",
            "siguientes términos: \n",
            " \n",
            "ANTECEDENTES \n",
            " \n",
            " \n",
            "PRIMERA: LA ARRENDADORA declara ser propietaria del inmueble ubicado en la \n",
            "Av. Los Laureles N.º 450, Mz. B Lt. 20, Urb. Villa Central, Distrito de \n",
            "Independencia, entre las avenidas Los Laureles y Alameda del Norte. \n",
            " \n",
            " \n",
            "SEGUNDA: LA ARRENDADORA deja constancia que el local comercial ubicado en \n",
            "el fron\n"
          ]
        }
      ]
    },
    {
      "cell_type": "code",
      "source": [
        "from transformers import pipeline\n",
        "\n",
        "# Cargar modelo\n",
        "print(\"⏳ Cargando modelo de resumen (facebook/bart-large-cnn)...\")\n",
        "summarizer = pipeline(\"summarization\", model=\"facebook/bart-large-cnn\")\n",
        "\n",
        "# Dividir texto en partes (1000 caracteres como máximo para evitar el límite de tokens)\n",
        "def split_text(text, max_length=1000):\n",
        "    return [text[i:i + max_length] for i in range(0, len(text), max_length)]\n",
        "\n",
        "# Crear los fragmentos\n",
        "text_chunks = split_text(text)\n",
        "\n",
        "# Mostrar cuántos fragmentos se procesarán\n",
        "print(f\"\\n📄 Número de fragmentos a resumir: {len(text_chunks)}\")\n",
        "\n",
        "# Generar resumen para cada fragmento\n",
        "summaries = []\n",
        "for i, chunk in enumerate(text_chunks):\n",
        "    print(f\"🔄 Resumiendo parte {i + 1} de {len(text_chunks)}...\")\n",
        "    summary = summarizer(chunk, max_length=130, min_length=30, do_sample=False)\n",
        "    summaries.append(summary[0]['summary_text'])\n",
        "\n",
        "# Unir los resúmenes\n",
        "final_summary = ' '.join(summaries)\n",
        "\n",
        "print(\"\\n✅ Resumen completo generado:\")\n",
        "print(final_summary)"
      ],
      "metadata": {
        "colab": {
          "base_uri": "https://localhost:8080/"
        },
        "id": "9gftCSmqN67d",
        "outputId": "58c4e84e-39a3-4852-a700-cf948bcf4971"
      },
      "execution_count": 8,
      "outputs": [
        {
          "output_type": "stream",
          "name": "stdout",
          "text": [
            "⏳ Cargando modelo de resumen (facebook/bart-large-cnn)...\n"
          ]
        },
        {
          "output_type": "stream",
          "name": "stderr",
          "text": [
            "Device set to use cuda:0\n"
          ]
        },
        {
          "output_type": "stream",
          "name": "stdout",
          "text": [
            "\n",
            "📄 Número de fragmentos a resumir: 11\n",
            "🔄 Resumiendo parte 1 de 11...\n",
            "🔄 Resumiendo parte 2 de 11...\n",
            "🔄 Resumiendo parte 3 de 11...\n",
            "🔄 Resumiendo parte 4 de 11...\n",
            "🔄 Resumiendo parte 5 de 11...\n",
            "🔄 Resumiendo parte 6 de 11...\n",
            "🔄 Resumiendo parte 7 de 11...\n",
            "🔄 Resumiendo parte 8 de 11...\n",
            "🔄 Resumiendo parte 9 de 11...\n",
            "🔄 Resumiendo parte 10 de 11...\n"
          ]
        },
        {
          "output_type": "stream",
          "name": "stderr",
          "text": [
            "You seem to be using the pipelines sequentially on GPU. In order to maximize efficiency please use a dataset\n"
          ]
        },
        {
          "output_type": "stream",
          "name": "stdout",
          "text": [
            "🔄 Resumiendo parte 11 de 11...\n",
            "\n",
            "✅ Resumen completo generado:\n",
            "Arrendamiento o Alquiler del Local                 Comercial que celebran, de una parte ZAMORA QUISPE, MARÍA ELENA, y de la otra parte, el señor VELÁSQUEZ MENDOZA, JULIO. La Alameda del Norte N.º 451, en buen estado de conservación y habitabilidad, con piso de cerámica tipo porcelanato. El presente contrato, LA ARRENDADORA se obliga a ceder el uso del local comercial, concerniente como local comerscial, a favor of EL  ARRENDATARIO, a título de alquiler. El monto de la renta pactada en la cláusula siguiente. La renta será pago por mensualidades, realizándose el abono 11 de cada mes. El comprobante de pago deberá ser enviado por correo electrónico o entregado a LA ARRENDADORA dentro of las 24 horas posteriores a cada depósito. El Código Civil está obligado a pagar puntualmente el monto de todos los servicios inherentes al bien tales como agua y luz eléctrica, parques y jardines with el impuesto del Patrimonio. Así mismo, EL ARRENDATARIO esta obligado toda la entrega de las llaves  del alquiler. El arrendatario se obliga a destinar el bien exclusivamente para FARMACIA. El bien deberá cruzar previo aviso por escrito, con una anticipación no de 7 días. EL ARRENDATARIO no podrá ceder a terceros el bien material bajo ningún título, ni subarrendar, total o parcial. En caso de incumplimiento de lo estipulado en la cláusula séptima, EL ARRENTARARIO deberá pagar en calidad de penalidad a 10 dólares. El mencionado depósito en garantía le será devuelto a EL ARRENDATARIO sin  vencimiento del contrato, una vez verificado el estado de conservación. El pago por mes  purposefullyadelantado de Setiembre del 2024 por la suma de S/ 1400 MIL CUATROCIENTOS  purposefullySOLES. Son causales de resolución del contrato el incumplimiento las causales establecidas en el art. 1697° del Código Civil siempre que no se encuentren comprendidas su tratamiento especial en el presente contrato. De conformidad al art. 5° de la Ley 30201. LA ARRENDADORA y EL ARR ENDATARIO declaran expresamente y de manera ishlyindubitable, que se someten a los efectos that contiene de la Ley 30933. En ese sentido, se produce el vencimiento del plazo del presente contrato de arrendamiento. VIGÉSIMO CUARTA: En lo previsto de las partes del presente contrato ambas partes  someten a lo establecido by las normas del Código Civil. Así mismo LA ARRENDADORA o dueña del bien, deja  purposefully constancia que puede ampararse. IO.IO.io is a web site that allows users to share photos and other information. The site is open to the public and can be accessed by anyone by clicking here. Click here to visit.\n"
          ]
        }
      ]
    },
    {
      "cell_type": "markdown",
      "source": [
        "#Resumen\n",
        "Arrendamiento o Alquiler del Local                 Comercial que celebran, de una parte ZAMORA QUISPE, MARÍA ELENA, y de la otra parte, el señor VELÁSQUEZ MENDOZA, JULIO. La Alameda del Norte N.º 451, en buen estado de conservación y habitabilidad, con piso de cerámica tipo porcelanato. El presente contrato, LA ARRENDADORA se obliga a ceder el uso del local comercial, concerniente como local comerscial, a favor of EL  ARRENDATARIO, a título de alquiler. El monto de la renta pactada en la cláusula siguiente. La renta será pago por mensualidades, realizándose el abono 11 de cada mes. El comprobante de pago deberá ser enviado por correo electrónico o entregado a LA ARRENDADORA dentro of las 24 horas posteriores a cada depósito. El Código Civil está obligado a pagar puntualmente el monto de todos los servicios inherentes al bien tales como agua y luz eléctrica, parques y jardines with el impuesto del Patrimonio. Así mismo, EL ARRENDATARIO esta obligado toda la entrega de las llaves  del alquiler. El arrendatario se obliga a destinar el bien exclusivamente para FARMACIA. El bien deberá cruzar previo aviso por escrito, con una anticipación no de 7 días. EL ARRENDATARIO no podrá ceder a terceros el bien material bajo ningún título, ni subarrendar, total o parcial. En caso de incumplimiento de lo estipulado en la cláusula séptima, EL ARRENTARARIO deberá pagar en calidad de penalidad a 10 dólares. El mencionado depósito en garantía le será devuelto a EL ARRENDATARIO sin  vencimiento del contrato, una vez verificado el estado de conservación. El pago por mes  purposefullyadelantado de Setiembre del 2024 por la suma de S/ 1400 MIL CUATROCIENTOS  purposefullySOLES. Son causales de resolución del contrato el incumplimiento las causales establecidas en el art. 1697° del Código Civil siempre que no se encuentren comprendidas su tratamiento especial en el presente contrato. De conformidad al art. 5° de la Ley 30201. LA ARRENDADORA y EL ARR ENDATARIO declaran expresamente y de manera ishlyindubitable, que se someten a los efectos that contiene de la Ley 30933. En ese sentido, se produce el vencimiento del plazo del presente contrato de arrendamiento. VIGÉSIMO CUARTA: En lo previsto de las partes del presente contrato ambas partes  someten a lo establecido by las normas del Código Civil. Así mismo LA ARRENDADORA o dueña del bien, deja  purposefully constancia que puede ampararse. IO.IO.io is a web site that allows users to share photos and other information. The site is open to the public and can be accessed by anyone by clicking here. Click here to visit.\n"
      ],
      "metadata": {
        "id": "TvWalxOISqon"
      }
    }
  ]
}